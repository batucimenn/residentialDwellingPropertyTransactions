{
 "cells": [
  {
   "cell_type": "code",
   "execution_count": 1,
   "id": "266b2e7a",
   "metadata": {},
   "outputs": [],
   "source": [
    "#Kutuphaneleri ekle\n",
    "import pandas as pd\n",
    "import numpy as np\n",
    "\n",
    "import seaborn as sns\n",
    "import matplotlib.pyplot as plt"
   ]
  },
  {
   "cell_type": "code",
   "execution_count": 2,
   "id": "0db11046",
   "metadata": {},
   "outputs": [],
   "source": [
    "#islem yapilacak dosyamizi degiskene esitliyoruz\n",
    "src=\"PEA04.20231014T131050.csv\""
   ]
  },
  {
   "cell_type": "code",
   "execution_count": 3,
   "id": "e4bd8f91",
   "metadata": {},
   "outputs": [],
   "source": [
    "#DataFrame'yi olustur\n",
    "firstDF = pd.read_csv(src)"
   ]
  },
  {
   "cell_type": "code",
   "execution_count": 4,
   "id": "d330ceea",
   "metadata": {},
   "outputs": [
    {
     "data": {
      "text/plain": [
       "(6669, 7)"
      ]
     },
     "execution_count": 4,
     "metadata": {},
     "output_type": "execute_result"
    }
   ],
   "source": [
    "#Toplam kac satir ve sutun oldugunu gor\n",
    "firstDF.shape"
   ]
  },
  {
   "cell_type": "code",
   "execution_count": 5,
   "id": "25e0da5c",
   "metadata": {},
   "outputs": [
    {
     "data": {
      "text/plain": [
       "Index(['STATISTIC Label', 'Year', 'Age Group', 'Sex', 'Region', 'UNIT',\n",
       "       'VALUE'],\n",
       "      dtype='object')"
      ]
     },
     "execution_count": 5,
     "metadata": {},
     "output_type": "execute_result"
    }
   ],
   "source": [
    "#Sutunlarin isimlerini ogreniyoruz\n",
    "firstDF.columns"
   ]
  },
  {
   "cell_type": "code",
   "execution_count": 6,
   "id": "dd0403a6",
   "metadata": {},
   "outputs": [
    {
     "data": {
      "text/plain": [
       "STATISTIC Label     object\n",
       "Year                 int64\n",
       "Age Group           object\n",
       "Sex                 object\n",
       "Region              object\n",
       "UNIT                object\n",
       "VALUE              float64\n",
       "dtype: object"
      ]
     },
     "execution_count": 6,
     "metadata": {},
     "output_type": "execute_result"
    }
   ],
   "source": [
    "#Sutunlarin hangi turde oldugunu ogren\n",
    "firstDF.dtypes"
   ]
  },
  {
   "cell_type": "code",
   "execution_count": 7,
   "id": "94dda73f",
   "metadata": {},
   "outputs": [
    {
     "name": "stdout",
     "output_type": "stream",
     "text": [
      "<class 'pandas.core.frame.DataFrame'>\n",
      "RangeIndex: 6669 entries, 0 to 6668\n",
      "Data columns (total 7 columns):\n",
      " #   Column           Non-Null Count  Dtype  \n",
      "---  ------           --------------  -----  \n",
      " 0   STATISTIC Label  6669 non-null   object \n",
      " 1   Year             6669 non-null   int64  \n",
      " 2   Age Group        6669 non-null   object \n",
      " 3   Sex              6669 non-null   object \n",
      " 4   Region           6669 non-null   object \n",
      " 5   UNIT             6669 non-null   object \n",
      " 6   VALUE            6669 non-null   float64\n",
      "dtypes: float64(1), int64(1), object(5)\n",
      "memory usage: 364.8+ KB\n"
     ]
    }
   ],
   "source": [
    "#Sutunlar hakkinda daha detayli bilgi al\n",
    "firstDF.info()"
   ]
  },
  {
   "cell_type": "code",
   "execution_count": 8,
   "id": "f25dca1d",
   "metadata": {},
   "outputs": [
    {
     "data": {
      "text/plain": [
       "STATISTIC Label    0\n",
       "Year               0\n",
       "Age Group          0\n",
       "Sex                0\n",
       "Region             0\n",
       "UNIT               0\n",
       "VALUE              0\n",
       "dtype: int64"
      ]
     },
     "execution_count": 8,
     "metadata": {},
     "output_type": "execute_result"
    }
   ],
   "source": [
    "#Null deger iceren satir olup olmadigini teyit ettik\n",
    "firstDF.isnull().sum()"
   ]
  },
  {
   "cell_type": "code",
   "execution_count": 9,
   "id": "296b2fd8",
   "metadata": {},
   "outputs": [
    {
     "data": {
      "text/html": [
       "<div>\n",
       "<style scoped>\n",
       "    .dataframe tbody tr th:only-of-type {\n",
       "        vertical-align: middle;\n",
       "    }\n",
       "\n",
       "    .dataframe tbody tr th {\n",
       "        vertical-align: top;\n",
       "    }\n",
       "\n",
       "    .dataframe thead th {\n",
       "        text-align: right;\n",
       "    }\n",
       "</style>\n",
       "<table border=\"1\" class=\"dataframe\">\n",
       "  <thead>\n",
       "    <tr style=\"text-align: right;\">\n",
       "      <th></th>\n",
       "      <th>STATISTIC Label</th>\n",
       "      <th>Year</th>\n",
       "      <th>Age Group</th>\n",
       "      <th>Sex</th>\n",
       "      <th>Region</th>\n",
       "      <th>UNIT</th>\n",
       "      <th>VALUE</th>\n",
       "    </tr>\n",
       "  </thead>\n",
       "  <tbody>\n",
       "    <tr>\n",
       "      <th>0</th>\n",
       "      <td>Estimated Population (Persons in April)</td>\n",
       "      <td>2011</td>\n",
       "      <td>0 - 4 years</td>\n",
       "      <td>Both sexes</td>\n",
       "      <td>State</td>\n",
       "      <td>Thousand</td>\n",
       "      <td>356.0</td>\n",
       "    </tr>\n",
       "    <tr>\n",
       "      <th>1</th>\n",
       "      <td>Estimated Population (Persons in April)</td>\n",
       "      <td>2011</td>\n",
       "      <td>0 - 4 years</td>\n",
       "      <td>Both sexes</td>\n",
       "      <td>Border</td>\n",
       "      <td>Thousand</td>\n",
       "      <td>30.7</td>\n",
       "    </tr>\n",
       "    <tr>\n",
       "      <th>2</th>\n",
       "      <td>Estimated Population (Persons in April)</td>\n",
       "      <td>2011</td>\n",
       "      <td>0 - 4 years</td>\n",
       "      <td>Both sexes</td>\n",
       "      <td>West</td>\n",
       "      <td>Thousand</td>\n",
       "      <td>32.6</td>\n",
       "    </tr>\n",
       "    <tr>\n",
       "      <th>3</th>\n",
       "      <td>Estimated Population (Persons in April)</td>\n",
       "      <td>2011</td>\n",
       "      <td>0 - 4 years</td>\n",
       "      <td>Both sexes</td>\n",
       "      <td>Mid-West</td>\n",
       "      <td>Thousand</td>\n",
       "      <td>35.0</td>\n",
       "    </tr>\n",
       "    <tr>\n",
       "      <th>4</th>\n",
       "      <td>Estimated Population (Persons in April)</td>\n",
       "      <td>2011</td>\n",
       "      <td>0 - 4 years</td>\n",
       "      <td>Both sexes</td>\n",
       "      <td>South-East</td>\n",
       "      <td>Thousand</td>\n",
       "      <td>32.0</td>\n",
       "    </tr>\n",
       "  </tbody>\n",
       "</table>\n",
       "</div>"
      ],
      "text/plain": [
       "                           STATISTIC Label  Year    Age Group         Sex  \\\n",
       "0  Estimated Population (Persons in April)  2011  0 - 4 years  Both sexes   \n",
       "1  Estimated Population (Persons in April)  2011  0 - 4 years  Both sexes   \n",
       "2  Estimated Population (Persons in April)  2011  0 - 4 years  Both sexes   \n",
       "3  Estimated Population (Persons in April)  2011  0 - 4 years  Both sexes   \n",
       "4  Estimated Population (Persons in April)  2011  0 - 4 years  Both sexes   \n",
       "\n",
       "       Region      UNIT  VALUE  \n",
       "0       State  Thousand  356.0  \n",
       "1      Border  Thousand   30.7  \n",
       "2        West  Thousand   32.6  \n",
       "3    Mid-West  Thousand   35.0  \n",
       "4  South-East  Thousand   32.0  "
      ]
     },
     "execution_count": 9,
     "metadata": {},
     "output_type": "execute_result"
    }
   ],
   "source": [
    "# İlk satirlara goz at\n",
    "firstDF.head()"
   ]
  },
  {
   "cell_type": "code",
   "execution_count": null,
   "id": "dbb882d7",
   "metadata": {},
   "outputs": [],
   "source": [
    "#df = sns.load_dataset('penguins').rename(columns={'sex': 'gender'})"
   ]
  },
  {
   "cell_type": "code",
   "execution_count": 10,
   "id": "f8b32788",
   "metadata": {},
   "outputs": [
    {
     "data": {
      "text/html": [
       "<div>\n",
       "<style scoped>\n",
       "    .dataframe tbody tr th:only-of-type {\n",
       "        vertical-align: middle;\n",
       "    }\n",
       "\n",
       "    .dataframe tbody tr th {\n",
       "        vertical-align: top;\n",
       "    }\n",
       "\n",
       "    .dataframe thead th {\n",
       "        text-align: right;\n",
       "    }\n",
       "</style>\n",
       "<table border=\"1\" class=\"dataframe\">\n",
       "  <thead>\n",
       "    <tr style=\"text-align: right;\">\n",
       "      <th></th>\n",
       "      <th>STATISTIC Label</th>\n",
       "      <th>Year</th>\n",
       "      <th>Age Group</th>\n",
       "      <th>Sex</th>\n",
       "      <th>Region</th>\n",
       "      <th>UNIT</th>\n",
       "      <th>VALUE</th>\n",
       "    </tr>\n",
       "  </thead>\n",
       "  <tbody>\n",
       "    <tr>\n",
       "      <th>6664</th>\n",
       "      <td>Estimated Population (Persons in April)</td>\n",
       "      <td>2023</td>\n",
       "      <td>All ages</td>\n",
       "      <td>Female</td>\n",
       "      <td>South-East</td>\n",
       "      <td>Thousand</td>\n",
       "      <td>237.5</td>\n",
       "    </tr>\n",
       "    <tr>\n",
       "      <th>6665</th>\n",
       "      <td>Estimated Population (Persons in April)</td>\n",
       "      <td>2023</td>\n",
       "      <td>All ages</td>\n",
       "      <td>Female</td>\n",
       "      <td>South-West</td>\n",
       "      <td>Thousand</td>\n",
       "      <td>383.8</td>\n",
       "    </tr>\n",
       "    <tr>\n",
       "      <th>6666</th>\n",
       "      <td>Estimated Population (Persons in April)</td>\n",
       "      <td>2023</td>\n",
       "      <td>All ages</td>\n",
       "      <td>Female</td>\n",
       "      <td>Dublin</td>\n",
       "      <td>Thousand</td>\n",
       "      <td>765.6</td>\n",
       "    </tr>\n",
       "    <tr>\n",
       "      <th>6667</th>\n",
       "      <td>Estimated Population (Persons in April)</td>\n",
       "      <td>2023</td>\n",
       "      <td>All ages</td>\n",
       "      <td>Female</td>\n",
       "      <td>Mid-East</td>\n",
       "      <td>Thousand</td>\n",
       "      <td>391.3</td>\n",
       "    </tr>\n",
       "    <tr>\n",
       "      <th>6668</th>\n",
       "      <td>Estimated Population (Persons in April)</td>\n",
       "      <td>2023</td>\n",
       "      <td>All ages</td>\n",
       "      <td>Female</td>\n",
       "      <td>Midland</td>\n",
       "      <td>Thousand</td>\n",
       "      <td>163.2</td>\n",
       "    </tr>\n",
       "  </tbody>\n",
       "</table>\n",
       "</div>"
      ],
      "text/plain": [
       "                              STATISTIC Label  Year Age Group     Sex  \\\n",
       "6664  Estimated Population (Persons in April)  2023  All ages  Female   \n",
       "6665  Estimated Population (Persons in April)  2023  All ages  Female   \n",
       "6666  Estimated Population (Persons in April)  2023  All ages  Female   \n",
       "6667  Estimated Population (Persons in April)  2023  All ages  Female   \n",
       "6668  Estimated Population (Persons in April)  2023  All ages  Female   \n",
       "\n",
       "          Region      UNIT  VALUE  \n",
       "6664  South-East  Thousand  237.5  \n",
       "6665  South-West  Thousand  383.8  \n",
       "6666      Dublin  Thousand  765.6  \n",
       "6667    Mid-East  Thousand  391.3  \n",
       "6668     Midland  Thousand  163.2  "
      ]
     },
     "execution_count": 10,
     "metadata": {},
     "output_type": "execute_result"
    }
   ],
   "source": [
    "# Son satirlara goz at\n",
    "firstDF.tail()"
   ]
  },
  {
   "cell_type": "code",
   "execution_count": 11,
   "id": "4a4660c9",
   "metadata": {},
   "outputs": [],
   "source": [
    "#Sutunu geri getirilemez bicimde siler\n",
    "firstDF.drop(columns=[\"STATISTIC Label\", \"UNIT\"], inplace = True) "
   ]
  },
  {
   "cell_type": "code",
   "execution_count": 12,
   "id": "5add3ff4",
   "metadata": {},
   "outputs": [],
   "source": [
    "#Degerleri tam sayi yaptik\n",
    "firstDF[\"VALUE\"] = firstDF[\"VALUE\"] * 1000"
   ]
  },
  {
   "cell_type": "code",
   "execution_count": 13,
   "id": "d964a7c8",
   "metadata": {},
   "outputs": [],
   "source": [
    "#Tamsayi float degerleri integer yaptik\n",
    "firstDF[\"VALUE\"] = firstDF[\"VALUE\"].apply(np.int64)"
   ]
  },
  {
   "cell_type": "code",
   "execution_count": 14,
   "id": "b2d3258e",
   "metadata": {},
   "outputs": [
    {
     "data": {
      "text/html": [
       "<div>\n",
       "<style scoped>\n",
       "    .dataframe tbody tr th:only-of-type {\n",
       "        vertical-align: middle;\n",
       "    }\n",
       "\n",
       "    .dataframe tbody tr th {\n",
       "        vertical-align: top;\n",
       "    }\n",
       "\n",
       "    .dataframe thead th {\n",
       "        text-align: right;\n",
       "    }\n",
       "</style>\n",
       "<table border=\"1\" class=\"dataframe\">\n",
       "  <thead>\n",
       "    <tr style=\"text-align: right;\">\n",
       "      <th></th>\n",
       "      <th>Year</th>\n",
       "      <th>Age Group</th>\n",
       "      <th>Sex</th>\n",
       "      <th>Region</th>\n",
       "      <th>VALUE</th>\n",
       "    </tr>\n",
       "  </thead>\n",
       "  <tbody>\n",
       "    <tr>\n",
       "      <th>0</th>\n",
       "      <td>2011</td>\n",
       "      <td>0 - 4 years</td>\n",
       "      <td>Both sexes</td>\n",
       "      <td>State</td>\n",
       "      <td>356000</td>\n",
       "    </tr>\n",
       "    <tr>\n",
       "      <th>1</th>\n",
       "      <td>2011</td>\n",
       "      <td>0 - 4 years</td>\n",
       "      <td>Both sexes</td>\n",
       "      <td>Border</td>\n",
       "      <td>30700</td>\n",
       "    </tr>\n",
       "    <tr>\n",
       "      <th>2</th>\n",
       "      <td>2011</td>\n",
       "      <td>0 - 4 years</td>\n",
       "      <td>Both sexes</td>\n",
       "      <td>West</td>\n",
       "      <td>32600</td>\n",
       "    </tr>\n",
       "    <tr>\n",
       "      <th>3</th>\n",
       "      <td>2011</td>\n",
       "      <td>0 - 4 years</td>\n",
       "      <td>Both sexes</td>\n",
       "      <td>Mid-West</td>\n",
       "      <td>35000</td>\n",
       "    </tr>\n",
       "    <tr>\n",
       "      <th>4</th>\n",
       "      <td>2011</td>\n",
       "      <td>0 - 4 years</td>\n",
       "      <td>Both sexes</td>\n",
       "      <td>South-East</td>\n",
       "      <td>32000</td>\n",
       "    </tr>\n",
       "  </tbody>\n",
       "</table>\n",
       "</div>"
      ],
      "text/plain": [
       "   Year    Age Group         Sex      Region   VALUE\n",
       "0  2011  0 - 4 years  Both sexes       State  356000\n",
       "1  2011  0 - 4 years  Both sexes      Border   30700\n",
       "2  2011  0 - 4 years  Both sexes        West   32600\n",
       "3  2011  0 - 4 years  Both sexes    Mid-West   35000\n",
       "4  2011  0 - 4 years  Both sexes  South-East   32000"
      ]
     },
     "execution_count": 14,
     "metadata": {},
     "output_type": "execute_result"
    }
   ],
   "source": [
    "firstDF.head()"
   ]
  },
  {
   "cell_type": "code",
   "execution_count": 15,
   "id": "a061c13d",
   "metadata": {},
   "outputs": [
    {
     "name": "stdout",
     "output_type": "stream",
     "text": [
      "count            6669\n",
      "unique             19\n",
      "top       0 - 4 years\n",
      "freq              351\n",
      "Name: Age Group, dtype: object\n",
      "----------\n",
      "count      6669\n",
      "unique        9\n",
      "top       State\n",
      "freq        741\n",
      "Name: Region, dtype: object\n",
      "----------\n",
      "count           6669\n",
      "unique             3\n",
      "top       Both sexes\n",
      "freq            2223\n",
      "Name: Sex, dtype: object\n"
     ]
    }
   ],
   "source": [
    "print(firstDF['Age Group'].describe())\n",
    "print(\"----------\")\n",
    "print(firstDF['Region'].describe())\n",
    "print(\"----------\")\n",
    "print(firstDF['Sex'].describe())"
   ]
  },
  {
   "cell_type": "code",
   "execution_count": 16,
   "id": "c7582345",
   "metadata": {},
   "outputs": [
    {
     "name": "stdout",
     "output_type": "stream",
     "text": [
      "['0 - 4 years' '5 - 9 years' '10 - 14 years' '15 - 19 years'\n",
      " '20 - 24 years' '25 - 29 years' '30 - 34 years' '35 - 39 years'\n",
      " '40 - 44 years' '45 - 49 years' '50 - 54 years' '55 - 59 years'\n",
      " '60 - 64 years' '65 - 69 years' '70 - 74 years' '75 - 79 years'\n",
      " '80 - 84 years' '85 years and over' 'All ages']\n",
      "----------\n",
      "['State' 'Border' 'West' 'Mid-West' 'South-East' 'South-West' 'Dublin'\n",
      " 'Mid-East' 'Midland']\n",
      "----------\n",
      "['Both sexes' 'Male' 'Female']\n"
     ]
    }
   ],
   "source": [
    "print(firstDF['Age Group'].unique())\n",
    "print(\"----------\")\n",
    "print(firstDF['Region'].unique())\n",
    "print(\"----------\")\n",
    "print(firstDF['Sex'].unique())"
   ]
  },
  {
   "cell_type": "markdown",
   "id": "d1be2f61",
   "metadata": {},
   "source": [
    "# FIRST TOPIC (ALL AGES)"
   ]
  },
  {
   "cell_type": "code",
   "execution_count": 17,
   "id": "26cd6fbe",
   "metadata": {},
   "outputs": [],
   "source": [
    "statePopulationDF = firstDF[(firstDF[\"Age Group\"] == \"All ages\") & (firstDF['Region'] == \"State\") & (firstDF['Sex'] == \"Both sexes\")]"
   ]
  },
  {
   "cell_type": "code",
   "execution_count": 18,
   "id": "5f5d6e7c",
   "metadata": {},
   "outputs": [
    {
     "data": {
      "text/plain": [
       "(13, 5)"
      ]
     },
     "execution_count": 18,
     "metadata": {},
     "output_type": "execute_result"
    }
   ],
   "source": [
    "statePopulationDF.shape"
   ]
  },
  {
   "cell_type": "code",
   "execution_count": 19,
   "id": "928a484a",
   "metadata": {},
   "outputs": [
    {
     "data": {
      "text/html": [
       "<div>\n",
       "<style scoped>\n",
       "    .dataframe tbody tr th:only-of-type {\n",
       "        vertical-align: middle;\n",
       "    }\n",
       "\n",
       "    .dataframe tbody tr th {\n",
       "        vertical-align: top;\n",
       "    }\n",
       "\n",
       "    .dataframe thead th {\n",
       "        text-align: right;\n",
       "    }\n",
       "</style>\n",
       "<table border=\"1\" class=\"dataframe\">\n",
       "  <thead>\n",
       "    <tr style=\"text-align: right;\">\n",
       "      <th></th>\n",
       "      <th>Year</th>\n",
       "      <th>Age Group</th>\n",
       "      <th>Sex</th>\n",
       "      <th>Region</th>\n",
       "      <th>VALUE</th>\n",
       "    </tr>\n",
       "  </thead>\n",
       "  <tbody>\n",
       "    <tr>\n",
       "      <th>486</th>\n",
       "      <td>2011</td>\n",
       "      <td>All ages</td>\n",
       "      <td>Both sexes</td>\n",
       "      <td>State</td>\n",
       "      <td>4574900</td>\n",
       "    </tr>\n",
       "    <tr>\n",
       "      <th>999</th>\n",
       "      <td>2012</td>\n",
       "      <td>All ages</td>\n",
       "      <td>Both sexes</td>\n",
       "      <td>State</td>\n",
       "      <td>4593700</td>\n",
       "    </tr>\n",
       "    <tr>\n",
       "      <th>1512</th>\n",
       "      <td>2013</td>\n",
       "      <td>All ages</td>\n",
       "      <td>Both sexes</td>\n",
       "      <td>State</td>\n",
       "      <td>4614700</td>\n",
       "    </tr>\n",
       "    <tr>\n",
       "      <th>2025</th>\n",
       "      <td>2014</td>\n",
       "      <td>All ages</td>\n",
       "      <td>Both sexes</td>\n",
       "      <td>State</td>\n",
       "      <td>4645400</td>\n",
       "    </tr>\n",
       "    <tr>\n",
       "      <th>2538</th>\n",
       "      <td>2015</td>\n",
       "      <td>All ages</td>\n",
       "      <td>Both sexes</td>\n",
       "      <td>State</td>\n",
       "      <td>4687800</td>\n",
       "    </tr>\n",
       "    <tr>\n",
       "      <th>3051</th>\n",
       "      <td>2016</td>\n",
       "      <td>All ages</td>\n",
       "      <td>Both sexes</td>\n",
       "      <td>State</td>\n",
       "      <td>4739600</td>\n",
       "    </tr>\n",
       "    <tr>\n",
       "      <th>3564</th>\n",
       "      <td>2017</td>\n",
       "      <td>All ages</td>\n",
       "      <td>Both sexes</td>\n",
       "      <td>State</td>\n",
       "      <td>4810900</td>\n",
       "    </tr>\n",
       "    <tr>\n",
       "      <th>4077</th>\n",
       "      <td>2018</td>\n",
       "      <td>All ages</td>\n",
       "      <td>Both sexes</td>\n",
       "      <td>State</td>\n",
       "      <td>4884900</td>\n",
       "    </tr>\n",
       "    <tr>\n",
       "      <th>4590</th>\n",
       "      <td>2019</td>\n",
       "      <td>All ages</td>\n",
       "      <td>Both sexes</td>\n",
       "      <td>State</td>\n",
       "      <td>4958500</td>\n",
       "    </tr>\n",
       "    <tr>\n",
       "      <th>5103</th>\n",
       "      <td>2020</td>\n",
       "      <td>All ages</td>\n",
       "      <td>Both sexes</td>\n",
       "      <td>State</td>\n",
       "      <td>5029900</td>\n",
       "    </tr>\n",
       "    <tr>\n",
       "      <th>5616</th>\n",
       "      <td>2021</td>\n",
       "      <td>All ages</td>\n",
       "      <td>Both sexes</td>\n",
       "      <td>State</td>\n",
       "      <td>5074700</td>\n",
       "    </tr>\n",
       "    <tr>\n",
       "      <th>6129</th>\n",
       "      <td>2022</td>\n",
       "      <td>All ages</td>\n",
       "      <td>Both sexes</td>\n",
       "      <td>State</td>\n",
       "      <td>5184000</td>\n",
       "    </tr>\n",
       "    <tr>\n",
       "      <th>6642</th>\n",
       "      <td>2023</td>\n",
       "      <td>All ages</td>\n",
       "      <td>Both sexes</td>\n",
       "      <td>State</td>\n",
       "      <td>5281600</td>\n",
       "    </tr>\n",
       "  </tbody>\n",
       "</table>\n",
       "</div>"
      ],
      "text/plain": [
       "      Year Age Group         Sex Region    VALUE\n",
       "486   2011  All ages  Both sexes  State  4574900\n",
       "999   2012  All ages  Both sexes  State  4593700\n",
       "1512  2013  All ages  Both sexes  State  4614700\n",
       "2025  2014  All ages  Both sexes  State  4645400\n",
       "2538  2015  All ages  Both sexes  State  4687800\n",
       "3051  2016  All ages  Both sexes  State  4739600\n",
       "3564  2017  All ages  Both sexes  State  4810900\n",
       "4077  2018  All ages  Both sexes  State  4884900\n",
       "4590  2019  All ages  Both sexes  State  4958500\n",
       "5103  2020  All ages  Both sexes  State  5029900\n",
       "5616  2021  All ages  Both sexes  State  5074700\n",
       "6129  2022  All ages  Both sexes  State  5184000\n",
       "6642  2023  All ages  Both sexes  State  5281600"
      ]
     },
     "execution_count": 19,
     "metadata": {},
     "output_type": "execute_result"
    }
   ],
   "source": [
    "statePopulationDF"
   ]
  },
  {
   "cell_type": "code",
   "execution_count": 20,
   "id": "d89cb1df",
   "metadata": {},
   "outputs": [
    {
     "name": "stdout",
     "output_type": "stream",
     "text": [
      "<class 'pandas.core.frame.DataFrame'>\n",
      "Int64Index: 13 entries, 486 to 6642\n",
      "Data columns (total 5 columns):\n",
      " #   Column     Non-Null Count  Dtype \n",
      "---  ------     --------------  ----- \n",
      " 0   Year       13 non-null     int64 \n",
      " 1   Age Group  13 non-null     object\n",
      " 2   Sex        13 non-null     object\n",
      " 3   Region     13 non-null     object\n",
      " 4   VALUE      13 non-null     int64 \n",
      "dtypes: int64(2), object(3)\n",
      "memory usage: 624.0+ bytes\n"
     ]
    }
   ],
   "source": [
    "statePopulationDF.info()"
   ]
  },
  {
   "cell_type": "code",
   "execution_count": null,
   "id": "fc3a8a85",
   "metadata": {},
   "outputs": [],
   "source": []
  },
  {
   "cell_type": "code",
   "execution_count": null,
   "id": "b7a764a4",
   "metadata": {},
   "outputs": [],
   "source": []
  },
  {
   "cell_type": "code",
   "execution_count": null,
   "id": "735a5e61",
   "metadata": {},
   "outputs": [],
   "source": []
  },
  {
   "cell_type": "code",
   "execution_count": 21,
   "id": "d655362f",
   "metadata": {},
   "outputs": [
    {
     "data": {
      "text/plain": [
       "<AxesSubplot:xlabel='Year', ylabel='VALUE'>"
      ]
     },
     "execution_count": 21,
     "metadata": {},
     "output_type": "execute_result"
    },
    {
     "data": {
      "image/png": "[encoded data removed]",
      "text/plain": [
       "<Figure size 432x288 with 1 Axes>"
      ]
     },
     "metadata": {
      "needs_background": "light"
     },
     "output_type": "display_data"
    }
   ],
   "source": [
    "#integer deger olan VALUE sutununu histplot ile gorsellestirdik\n",
    "value = firstDF[\"VALUE\"] / 1000000\n",
    "sns.histplot(data=statePopulationDF, x= \"Year\", y=value)"
   ]
  },
  {
   "cell_type": "code",
   "execution_count": 28,
   "id": "25678232",
   "metadata": {},
   "outputs": [
    {
     "name": "stderr",
     "output_type": "stream",
     "text": [
      "C:\\Users\\batuc\\anaconda3\\lib\\site-packages\\seaborn\\distributions.py:2619: FutureWarning: `distplot` is a deprecated function and will be removed in a future version. Please adapt your code to use either `displot` (a figure-level function with similar flexibility) or `histplot` (an axes-level function for histograms).\n",
      "  warnings.warn(msg, FutureWarning)\n"
     ]
    },
    {
     "data": {
      "text/plain": [
       "<AxesSubplot:xlabel='VALUE', ylabel='Density'>"
      ]
     },
     "execution_count": 28,
     "metadata": {},
     "output_type": "execute_result"
    },
    {
     "data": {
      "image/png": "[encoded data removed]",
      "text/plain": [
       "<Figure size 432x288 with 1 Axes>"
      ]
     },
     "metadata": {
      "needs_background": "light"
     },
     "output_type": "display_data"
    }
   ],
   "source": [
    "#sns.distplot(statePopulationDF.VALUE)"
   ]
  },
  {
   "cell_type": "code",
   "execution_count": 24,
   "id": "919069c5",
   "metadata": {},
   "outputs": [
    {
     "data": {
      "text/plain": [
       "<AxesSubplot:xlabel='Year', ylabel='VALUE'>"
      ]
     },
     "execution_count": 24,
     "metadata": {},
     "output_type": "execute_result"
    },
    {
     "data": {
      "image/png": "[encoded data removed]",
      "text/plain": [
       "<Figure size 648x360 with 1 Axes>"
      ]
     },
     "metadata": {
      "needs_background": "light"
     },
     "output_type": "display_data"
    }
   ],
   "source": [
    "plt.figure(figsize=(9, 5))\n",
    "sns.set_palette('rainbow')# Plot\n",
    "#sns.set_palette(['green', 'purple', 'red'])\n",
    "sns.set_context('talk')# Plot\n",
    "sns.scatterplot(data=statePopulationDF, x= \"Year\", y=value , alpha=0.7)\n",
    "#plt.legend(loc='upper right', bbox_to_anchor=(1.3, 1));"
   ]
  },
  {
   "cell_type": "code",
   "execution_count": null,
   "id": "abaff555",
   "metadata": {},
   "outputs": [],
   "source": []
  }
 ],
 "metadata": {
  "kernelspec": {
   "display_name": "Python 3 (ipykernel)",
   "language": "python",
   "name": "python3"
  },
  "language_info": {
   "codemirror_mode": {
    "name": "ipython",
    "version": 3
   },
   "file_extension": ".py",
   "mimetype": "text/x-python",
   "name": "python",
   "nbconvert_exporter": "python",
   "pygments_lexer": "ipython3",
   "version": "3.9.12"
  }
 },
 "nbformat": 4,
 "nbformat_minor": 5
}
