{
 "cells": [
  {
   "cell_type": "code",
   "execution_count": 24,
   "id": "51f4a3a7",
   "metadata": {},
   "outputs": [],
   "source": [
    "#Libraries added\n",
    "import pandas as pd\n",
    "import numpy as np\n",
    "\n",
    "import seaborn as sns #visualisation\n",
    "import matplotlib.pyplot as plt #visualisation\n",
    "%matplotlib inline \n",
    "sns.set(color_codes=True)"
   ]
  },
  {
   "cell_type": "code",
   "execution_count": 2,
   "id": "5129c2ca",
   "metadata": {},
   "outputs": [],
   "source": [
    "#The file to be processed is assigned to the variable\n",
    "src = \"residentialDwellingPropertyTransactions.csv\""
   ]
  },
  {
   "cell_type": "code",
   "execution_count": 3,
   "id": "c2265fa2",
   "metadata": {},
   "outputs": [],
   "source": [
    "#Dataframe created\n",
    "firstDF = pd.read_csv(src)"
   ]
  },
  {
   "cell_type": "code",
   "execution_count": 4,
   "id": "88dec297",
   "metadata": {},
   "outputs": [
    {
     "data": {
      "text/html": [
       "<div>\n",
       "<style scoped>\n",
       "    .dataframe tbody tr th:only-of-type {\n",
       "        vertical-align: middle;\n",
       "    }\n",
       "\n",
       "    .dataframe tbody tr th {\n",
       "        vertical-align: top;\n",
       "    }\n",
       "\n",
       "    .dataframe thead th {\n",
       "        text-align: right;\n",
       "    }\n",
       "</style>\n",
       "<table border=\"1\" class=\"dataframe\">\n",
       "  <thead>\n",
       "    <tr style=\"text-align: right;\">\n",
       "      <th></th>\n",
       "      <th>Statistic Label</th>\n",
       "      <th>Month</th>\n",
       "      <th>County</th>\n",
       "      <th>Dwelling Status</th>\n",
       "      <th>Stamp Duty Event</th>\n",
       "      <th>Type of Buyer</th>\n",
       "      <th>Type of Sale</th>\n",
       "      <th>UNIT</th>\n",
       "      <th>VALUE</th>\n",
       "    </tr>\n",
       "  </thead>\n",
       "  <tbody>\n",
       "    <tr>\n",
       "      <th>0</th>\n",
       "      <td>Volume of Sales</td>\n",
       "      <td>2010 January</td>\n",
       "      <td>Carlow</td>\n",
       "      <td>New</td>\n",
       "      <td>Filings</td>\n",
       "      <td>Household Buyer - All</td>\n",
       "      <td>Market</td>\n",
       "      <td>Number</td>\n",
       "      <td>5.0</td>\n",
       "    </tr>\n",
       "    <tr>\n",
       "      <th>1</th>\n",
       "      <td>Volume of Sales</td>\n",
       "      <td>2010 January</td>\n",
       "      <td>Carlow</td>\n",
       "      <td>New</td>\n",
       "      <td>Filings</td>\n",
       "      <td>Household Buyer - All</td>\n",
       "      <td>Non-Market</td>\n",
       "      <td>Number</td>\n",
       "      <td>0.0</td>\n",
       "    </tr>\n",
       "    <tr>\n",
       "      <th>2</th>\n",
       "      <td>Volume of Sales</td>\n",
       "      <td>2010 January</td>\n",
       "      <td>Carlow</td>\n",
       "      <td>New</td>\n",
       "      <td>Filings</td>\n",
       "      <td>Household Buyer - First-Time Buyer Owner-Occupier</td>\n",
       "      <td>Market</td>\n",
       "      <td>Number</td>\n",
       "      <td>0.0</td>\n",
       "    </tr>\n",
       "    <tr>\n",
       "      <th>3</th>\n",
       "      <td>Volume of Sales</td>\n",
       "      <td>2010 January</td>\n",
       "      <td>Carlow</td>\n",
       "      <td>New</td>\n",
       "      <td>Filings</td>\n",
       "      <td>Household Buyer - First-Time Buyer Owner-Occupier</td>\n",
       "      <td>Non-Market</td>\n",
       "      <td>Number</td>\n",
       "      <td>0.0</td>\n",
       "    </tr>\n",
       "    <tr>\n",
       "      <th>4</th>\n",
       "      <td>Volume of Sales</td>\n",
       "      <td>2010 January</td>\n",
       "      <td>Carlow</td>\n",
       "      <td>New</td>\n",
       "      <td>Filings</td>\n",
       "      <td>Household Buyer - Former Owner-Occupier</td>\n",
       "      <td>Market</td>\n",
       "      <td>Number</td>\n",
       "      <td>3.0</td>\n",
       "    </tr>\n",
       "  </tbody>\n",
       "</table>\n",
       "</div>"
      ],
      "text/plain": [
       "   Statistic Label         Month  County Dwelling Status Stamp Duty Event  \\\n",
       "0  Volume of Sales  2010 January  Carlow             New          Filings   \n",
       "1  Volume of Sales  2010 January  Carlow             New          Filings   \n",
       "2  Volume of Sales  2010 January  Carlow             New          Filings   \n",
       "3  Volume of Sales  2010 January  Carlow             New          Filings   \n",
       "4  Volume of Sales  2010 January  Carlow             New          Filings   \n",
       "\n",
       "                                       Type of Buyer Type of Sale    UNIT  \\\n",
       "0                              Household Buyer - All       Market  Number   \n",
       "1                              Household Buyer - All   Non-Market  Number   \n",
       "2  Household Buyer - First-Time Buyer Owner-Occupier       Market  Number   \n",
       "3  Household Buyer - First-Time Buyer Owner-Occupier   Non-Market  Number   \n",
       "4            Household Buyer - Former Owner-Occupier       Market  Number   \n",
       "\n",
       "   VALUE  \n",
       "0    5.0  \n",
       "1    0.0  \n",
       "2    0.0  \n",
       "3    0.0  \n",
       "4    3.0  "
      ]
     },
     "execution_count": 4,
     "metadata": {},
     "output_type": "execute_result"
    }
   ],
   "source": [
    "#First 5 lines viewed\n",
    "firstDF.head(5)"
   ]
  },
  {
   "cell_type": "code",
   "execution_count": 5,
   "id": "66c67491",
   "metadata": {},
   "outputs": [
    {
     "data": {
      "text/html": [
       "<div>\n",
       "<style scoped>\n",
       "    .dataframe tbody tr th:only-of-type {\n",
       "        vertical-align: middle;\n",
       "    }\n",
       "\n",
       "    .dataframe tbody tr th {\n",
       "        vertical-align: top;\n",
       "    }\n",
       "\n",
       "    .dataframe thead th {\n",
       "        text-align: right;\n",
       "    }\n",
       "</style>\n",
       "<table border=\"1\" class=\"dataframe\">\n",
       "  <thead>\n",
       "    <tr style=\"text-align: right;\">\n",
       "      <th></th>\n",
       "      <th>Statistic Label</th>\n",
       "      <th>Month</th>\n",
       "      <th>County</th>\n",
       "      <th>Dwelling Status</th>\n",
       "      <th>Stamp Duty Event</th>\n",
       "      <th>Type of Buyer</th>\n",
       "      <th>Type of Sale</th>\n",
       "      <th>UNIT</th>\n",
       "      <th>VALUE</th>\n",
       "    </tr>\n",
       "  </thead>\n",
       "  <tbody>\n",
       "    <tr>\n",
       "      <th>682235</th>\n",
       "      <td>Median Price</td>\n",
       "      <td>2023 August</td>\n",
       "      <td>Monaghan</td>\n",
       "      <td>Existing</td>\n",
       "      <td>Executions</td>\n",
       "      <td>Household Buyer - Former Owner-Occupier</td>\n",
       "      <td>Non-Market</td>\n",
       "      <td>Euro</td>\n",
       "      <td>165000.0</td>\n",
       "    </tr>\n",
       "    <tr>\n",
       "      <th>682236</th>\n",
       "      <td>Median Price</td>\n",
       "      <td>2023 August</td>\n",
       "      <td>Monaghan</td>\n",
       "      <td>Existing</td>\n",
       "      <td>Executions</td>\n",
       "      <td>Household Buyer - Non-Occupier</td>\n",
       "      <td>Market</td>\n",
       "      <td>Euro</td>\n",
       "      <td>NaN</td>\n",
       "    </tr>\n",
       "    <tr>\n",
       "      <th>682237</th>\n",
       "      <td>Median Price</td>\n",
       "      <td>2023 August</td>\n",
       "      <td>Monaghan</td>\n",
       "      <td>Existing</td>\n",
       "      <td>Executions</td>\n",
       "      <td>Household Buyer - Non-Occupier</td>\n",
       "      <td>Non-Market</td>\n",
       "      <td>Euro</td>\n",
       "      <td>35000.0</td>\n",
       "    </tr>\n",
       "    <tr>\n",
       "      <th>682238</th>\n",
       "      <td>Median Price</td>\n",
       "      <td>2023 August</td>\n",
       "      <td>Monaghan</td>\n",
       "      <td>Existing</td>\n",
       "      <td>Executions</td>\n",
       "      <td>Non-Household Buyer</td>\n",
       "      <td>Market</td>\n",
       "      <td>Euro</td>\n",
       "      <td>39750.0</td>\n",
       "    </tr>\n",
       "    <tr>\n",
       "      <th>682239</th>\n",
       "      <td>Median Price</td>\n",
       "      <td>2023 August</td>\n",
       "      <td>Monaghan</td>\n",
       "      <td>Existing</td>\n",
       "      <td>Executions</td>\n",
       "      <td>Non-Household Buyer</td>\n",
       "      <td>Non-Market</td>\n",
       "      <td>Euro</td>\n",
       "      <td>NaN</td>\n",
       "    </tr>\n",
       "  </tbody>\n",
       "</table>\n",
       "</div>"
      ],
      "text/plain": [
       "       Statistic Label        Month    County Dwelling Status  \\\n",
       "682235    Median Price  2023 August  Monaghan        Existing   \n",
       "682236    Median Price  2023 August  Monaghan        Existing   \n",
       "682237    Median Price  2023 August  Monaghan        Existing   \n",
       "682238    Median Price  2023 August  Monaghan        Existing   \n",
       "682239    Median Price  2023 August  Monaghan        Existing   \n",
       "\n",
       "       Stamp Duty Event                            Type of Buyer Type of Sale  \\\n",
       "682235       Executions  Household Buyer - Former Owner-Occupier   Non-Market   \n",
       "682236       Executions           Household Buyer - Non-Occupier       Market   \n",
       "682237       Executions           Household Buyer - Non-Occupier   Non-Market   \n",
       "682238       Executions                      Non-Household Buyer       Market   \n",
       "682239       Executions                      Non-Household Buyer   Non-Market   \n",
       "\n",
       "        UNIT     VALUE  \n",
       "682235  Euro  165000.0  \n",
       "682236  Euro       NaN  \n",
       "682237  Euro   35000.0  \n",
       "682238  Euro   39750.0  \n",
       "682239  Euro       NaN  "
      ]
     },
     "execution_count": 5,
     "metadata": {},
     "output_type": "execute_result"
    }
   ],
   "source": [
    "# Last 5 lines viewed\n",
    "firstDF.tail(5)"
   ]
  },
  {
   "cell_type": "code",
   "execution_count": 6,
   "id": "6e2cbb46",
   "metadata": {},
   "outputs": [],
   "source": [
    "#To provide clearer data, division was made in the months column\n",
    "firstDF[['Year', 'Month']] = firstDF.Month.str.split(' ', expand=True)"
   ]
  },
  {
   "cell_type": "code",
   "execution_count": 7,
   "id": "880b66f2",
   "metadata": {},
   "outputs": [
    {
     "data": {
      "text/plain": [
       "(682240, 10)"
      ]
     },
     "execution_count": 7,
     "metadata": {},
     "output_type": "execute_result"
    }
   ],
   "source": [
    "#Total number of columns and rows were checked\n",
    "firstDF.shape"
   ]
  },
  {
   "cell_type": "code",
   "execution_count": 8,
   "id": "38cfda48",
   "metadata": {},
   "outputs": [
    {
     "data": {
      "text/plain": [
       "Index(['Statistic Label', 'Month', 'County', 'Dwelling Status',\n",
       "       'Stamp Duty Event', 'Type of Buyer', 'Type of Sale', 'UNIT', 'VALUE',\n",
       "       'Year'],\n",
       "      dtype='object')"
      ]
     },
     "execution_count": 8,
     "metadata": {},
     "output_type": "execute_result"
    }
   ],
   "source": [
    "#The names of the columns were learned\n",
    "firstDF.columns"
   ]
  },
  {
   "cell_type": "code",
   "execution_count": 9,
   "id": "63b27b06",
   "metadata": {},
   "outputs": [
    {
     "data": {
      "text/plain": [
       "Statistic Label      object\n",
       "Month                object\n",
       "County               object\n",
       "Dwelling Status      object\n",
       "Stamp Duty Event     object\n",
       "Type of Buyer        object\n",
       "Type of Sale         object\n",
       "UNIT                 object\n",
       "VALUE               float64\n",
       "Year                 object\n",
       "dtype: object"
      ]
     },
     "execution_count": 9,
     "metadata": {},
     "output_type": "execute_result"
    }
   ],
   "source": [
    "#Data types of columns were learned\n",
    "firstDF.dtypes"
   ]
  },
  {
   "cell_type": "code",
   "execution_count": 18,
   "id": "9db36227",
   "metadata": {},
   "outputs": [
    {
     "data": {
      "text/plain": [
       "Statistic Label     682240\n",
       "Month               682240\n",
       "County              682240\n",
       "Dwelling Status     682240\n",
       "Stamp Duty Event    682240\n",
       "Type of Buyer       682240\n",
       "Type of Sale        682240\n",
       "UNIT                682240\n",
       "VALUE               580400\n",
       "Year                682240\n",
       "dtype: int64"
      ]
     },
     "execution_count": 18,
     "metadata": {},
     "output_type": "execute_result"
    }
   ],
   "source": [
    "firstDF.count()"
   ]
  },
  {
   "cell_type": "code",
   "execution_count": 10,
   "id": "229ae675",
   "metadata": {},
   "outputs": [
    {
     "name": "stdout",
     "output_type": "stream",
     "text": [
      "<class 'pandas.core.frame.DataFrame'>\n",
      "RangeIndex: 682240 entries, 0 to 682239\n",
      "Data columns (total 10 columns):\n",
      " #   Column            Non-Null Count   Dtype  \n",
      "---  ------            --------------   -----  \n",
      " 0   Statistic Label   682240 non-null  object \n",
      " 1   Month             682240 non-null  object \n",
      " 2   County            682240 non-null  object \n",
      " 3   Dwelling Status   682240 non-null  object \n",
      " 4   Stamp Duty Event  682240 non-null  object \n",
      " 5   Type of Buyer     682240 non-null  object \n",
      " 6   Type of Sale      682240 non-null  object \n",
      " 7   UNIT              682240 non-null  object \n",
      " 8   VALUE             580400 non-null  float64\n",
      " 9   Year              682240 non-null  object \n",
      "dtypes: float64(1), object(9)\n",
      "memory usage: 52.1+ MB\n"
     ]
    }
   ],
   "source": [
    "#More detailed information was received about the columns\n",
    "firstDF.info()"
   ]
  },
  {
   "cell_type": "code",
   "execution_count": 11,
   "id": "e98da11d",
   "metadata": {},
   "outputs": [
    {
     "data": {
      "text/plain": [
       "Statistic Label          0\n",
       "Month                    0\n",
       "County                   0\n",
       "Dwelling Status          0\n",
       "Stamp Duty Event         0\n",
       "Type of Buyer            0\n",
       "Type of Sale             0\n",
       "UNIT                     0\n",
       "VALUE               101840\n",
       "Year                     0\n",
       "dtype: int64"
      ]
     },
     "execution_count": 11,
     "metadata": {},
     "output_type": "execute_result"
    }
   ],
   "source": [
    "#Rows containing null values were detected\n",
    "firstDF.isnull().sum()"
   ]
  },
  {
   "cell_type": "code",
   "execution_count": 12,
   "id": "e0e2327b",
   "metadata": {},
   "outputs": [
    {
     "data": {
      "text/html": [
       "<div>\n",
       "<style scoped>\n",
       "    .dataframe tbody tr th:only-of-type {\n",
       "        vertical-align: middle;\n",
       "    }\n",
       "\n",
       "    .dataframe tbody tr th {\n",
       "        vertical-align: top;\n",
       "    }\n",
       "\n",
       "    .dataframe thead th {\n",
       "        text-align: right;\n",
       "    }\n",
       "</style>\n",
       "<table border=\"1\" class=\"dataframe\">\n",
       "  <thead>\n",
       "    <tr style=\"text-align: right;\">\n",
       "      <th></th>\n",
       "      <th>Statistic Label</th>\n",
       "      <th>Month</th>\n",
       "      <th>County</th>\n",
       "      <th>Dwelling Status</th>\n",
       "      <th>Stamp Duty Event</th>\n",
       "      <th>Type of Buyer</th>\n",
       "      <th>Type of Sale</th>\n",
       "      <th>UNIT</th>\n",
       "      <th>VALUE</th>\n",
       "      <th>Year</th>\n",
       "    </tr>\n",
       "  </thead>\n",
       "  <tbody>\n",
       "    <tr>\n",
       "      <th>0</th>\n",
       "      <td>Volume of Sales</td>\n",
       "      <td>January</td>\n",
       "      <td>Carlow</td>\n",
       "      <td>New</td>\n",
       "      <td>Filings</td>\n",
       "      <td>Household Buyer - All</td>\n",
       "      <td>Market</td>\n",
       "      <td>Number</td>\n",
       "      <td>5.0</td>\n",
       "      <td>2010</td>\n",
       "    </tr>\n",
       "    <tr>\n",
       "      <th>1</th>\n",
       "      <td>Volume of Sales</td>\n",
       "      <td>January</td>\n",
       "      <td>Carlow</td>\n",
       "      <td>New</td>\n",
       "      <td>Filings</td>\n",
       "      <td>Household Buyer - All</td>\n",
       "      <td>Non-Market</td>\n",
       "      <td>Number</td>\n",
       "      <td>0.0</td>\n",
       "      <td>2010</td>\n",
       "    </tr>\n",
       "    <tr>\n",
       "      <th>2</th>\n",
       "      <td>Volume of Sales</td>\n",
       "      <td>January</td>\n",
       "      <td>Carlow</td>\n",
       "      <td>New</td>\n",
       "      <td>Filings</td>\n",
       "      <td>Household Buyer - First-Time Buyer Owner-Occupier</td>\n",
       "      <td>Market</td>\n",
       "      <td>Number</td>\n",
       "      <td>0.0</td>\n",
       "      <td>2010</td>\n",
       "    </tr>\n",
       "    <tr>\n",
       "      <th>3</th>\n",
       "      <td>Volume of Sales</td>\n",
       "      <td>January</td>\n",
       "      <td>Carlow</td>\n",
       "      <td>New</td>\n",
       "      <td>Filings</td>\n",
       "      <td>Household Buyer - First-Time Buyer Owner-Occupier</td>\n",
       "      <td>Non-Market</td>\n",
       "      <td>Number</td>\n",
       "      <td>0.0</td>\n",
       "      <td>2010</td>\n",
       "    </tr>\n",
       "    <tr>\n",
       "      <th>4</th>\n",
       "      <td>Volume of Sales</td>\n",
       "      <td>January</td>\n",
       "      <td>Carlow</td>\n",
       "      <td>New</td>\n",
       "      <td>Filings</td>\n",
       "      <td>Household Buyer - Former Owner-Occupier</td>\n",
       "      <td>Market</td>\n",
       "      <td>Number</td>\n",
       "      <td>3.0</td>\n",
       "      <td>2010</td>\n",
       "    </tr>\n",
       "    <tr>\n",
       "      <th>...</th>\n",
       "      <td>...</td>\n",
       "      <td>...</td>\n",
       "      <td>...</td>\n",
       "      <td>...</td>\n",
       "      <td>...</td>\n",
       "      <td>...</td>\n",
       "      <td>...</td>\n",
       "      <td>...</td>\n",
       "      <td>...</td>\n",
       "      <td>...</td>\n",
       "    </tr>\n",
       "    <tr>\n",
       "      <th>682232</th>\n",
       "      <td>Median Price</td>\n",
       "      <td>August</td>\n",
       "      <td>Monaghan</td>\n",
       "      <td>Existing</td>\n",
       "      <td>Executions</td>\n",
       "      <td>Household Buyer - First-Time Buyer Owner-Occupier</td>\n",
       "      <td>Market</td>\n",
       "      <td>Euro</td>\n",
       "      <td>225000.0</td>\n",
       "      <td>2023</td>\n",
       "    </tr>\n",
       "    <tr>\n",
       "      <th>682234</th>\n",
       "      <td>Median Price</td>\n",
       "      <td>August</td>\n",
       "      <td>Monaghan</td>\n",
       "      <td>Existing</td>\n",
       "      <td>Executions</td>\n",
       "      <td>Household Buyer - Former Owner-Occupier</td>\n",
       "      <td>Market</td>\n",
       "      <td>Euro</td>\n",
       "      <td>224000.0</td>\n",
       "      <td>2023</td>\n",
       "    </tr>\n",
       "    <tr>\n",
       "      <th>682235</th>\n",
       "      <td>Median Price</td>\n",
       "      <td>August</td>\n",
       "      <td>Monaghan</td>\n",
       "      <td>Existing</td>\n",
       "      <td>Executions</td>\n",
       "      <td>Household Buyer - Former Owner-Occupier</td>\n",
       "      <td>Non-Market</td>\n",
       "      <td>Euro</td>\n",
       "      <td>165000.0</td>\n",
       "      <td>2023</td>\n",
       "    </tr>\n",
       "    <tr>\n",
       "      <th>682237</th>\n",
       "      <td>Median Price</td>\n",
       "      <td>August</td>\n",
       "      <td>Monaghan</td>\n",
       "      <td>Existing</td>\n",
       "      <td>Executions</td>\n",
       "      <td>Household Buyer - Non-Occupier</td>\n",
       "      <td>Non-Market</td>\n",
       "      <td>Euro</td>\n",
       "      <td>35000.0</td>\n",
       "      <td>2023</td>\n",
       "    </tr>\n",
       "    <tr>\n",
       "      <th>682238</th>\n",
       "      <td>Median Price</td>\n",
       "      <td>August</td>\n",
       "      <td>Monaghan</td>\n",
       "      <td>Existing</td>\n",
       "      <td>Executions</td>\n",
       "      <td>Non-Household Buyer</td>\n",
       "      <td>Market</td>\n",
       "      <td>Euro</td>\n",
       "      <td>39750.0</td>\n",
       "      <td>2023</td>\n",
       "    </tr>\n",
       "  </tbody>\n",
       "</table>\n",
       "<p>580400 rows × 10 columns</p>\n",
       "</div>"
      ],
      "text/plain": [
       "        Statistic Label    Month    County Dwelling Status Stamp Duty Event  \\\n",
       "0       Volume of Sales  January    Carlow             New          Filings   \n",
       "1       Volume of Sales  January    Carlow             New          Filings   \n",
       "2       Volume of Sales  January    Carlow             New          Filings   \n",
       "3       Volume of Sales  January    Carlow             New          Filings   \n",
       "4       Volume of Sales  January    Carlow             New          Filings   \n",
       "...                 ...      ...       ...             ...              ...   \n",
       "682232     Median Price   August  Monaghan        Existing       Executions   \n",
       "682234     Median Price   August  Monaghan        Existing       Executions   \n",
       "682235     Median Price   August  Monaghan        Existing       Executions   \n",
       "682237     Median Price   August  Monaghan        Existing       Executions   \n",
       "682238     Median Price   August  Monaghan        Existing       Executions   \n",
       "\n",
       "                                            Type of Buyer Type of Sale  \\\n",
       "0                                   Household Buyer - All       Market   \n",
       "1                                   Household Buyer - All   Non-Market   \n",
       "2       Household Buyer - First-Time Buyer Owner-Occupier       Market   \n",
       "3       Household Buyer - First-Time Buyer Owner-Occupier   Non-Market   \n",
       "4                 Household Buyer - Former Owner-Occupier       Market   \n",
       "...                                                   ...          ...   \n",
       "682232  Household Buyer - First-Time Buyer Owner-Occupier       Market   \n",
       "682234            Household Buyer - Former Owner-Occupier       Market   \n",
       "682235            Household Buyer - Former Owner-Occupier   Non-Market   \n",
       "682237                     Household Buyer - Non-Occupier   Non-Market   \n",
       "682238                                Non-Household Buyer       Market   \n",
       "\n",
       "          UNIT     VALUE  Year  \n",
       "0       Number       5.0  2010  \n",
       "1       Number       0.0  2010  \n",
       "2       Number       0.0  2010  \n",
       "3       Number       0.0  2010  \n",
       "4       Number       3.0  2010  \n",
       "...        ...       ...   ...  \n",
       "682232    Euro  225000.0  2023  \n",
       "682234    Euro  224000.0  2023  \n",
       "682235    Euro  165000.0  2023  \n",
       "682237    Euro   35000.0  2023  \n",
       "682238    Euro   39750.0  2023  \n",
       "\n",
       "[580400 rows x 10 columns]"
      ]
     },
     "execution_count": 12,
     "metadata": {},
     "output_type": "execute_result"
    }
   ],
   "source": [
    "#Rows with NaN values were ignored\n",
    "firstDF[firstDF['VALUE'].notna()]"
   ]
  },
  {
   "cell_type": "code",
   "execution_count": 42,
   "id": "0c632d82",
   "metadata": {},
   "outputs": [],
   "source": [
    "new_names =  {'UNIT': 'Unit', 'VALUE': 'Value'}\n"
   ]
  },
  {
   "cell_type": "code",
   "execution_count": 43,
   "id": "7c14ef89",
   "metadata": {},
   "outputs": [],
   "source": [
    "firstDF.rename(columns=new_names, inplace=True)"
   ]
  },
  {
   "cell_type": "code",
   "execution_count": 44,
   "id": "5f66e085",
   "metadata": {},
   "outputs": [
    {
     "data": {
      "text/html": [
       "<div>\n",
       "<style scoped>\n",
       "    .dataframe tbody tr th:only-of-type {\n",
       "        vertical-align: middle;\n",
       "    }\n",
       "\n",
       "    .dataframe tbody tr th {\n",
       "        vertical-align: top;\n",
       "    }\n",
       "\n",
       "    .dataframe thead th {\n",
       "        text-align: right;\n",
       "    }\n",
       "</style>\n",
       "<table border=\"1\" class=\"dataframe\">\n",
       "  <thead>\n",
       "    <tr style=\"text-align: right;\">\n",
       "      <th></th>\n",
       "      <th>Statistic Label</th>\n",
       "      <th>Month</th>\n",
       "      <th>County</th>\n",
       "      <th>Dwelling Status</th>\n",
       "      <th>Stamp Duty Event</th>\n",
       "      <th>Type of Buyer</th>\n",
       "      <th>Type of Sale</th>\n",
       "      <th>Unit</th>\n",
       "      <th>Value</th>\n",
       "      <th>Year</th>\n",
       "    </tr>\n",
       "  </thead>\n",
       "  <tbody>\n",
       "    <tr>\n",
       "      <th>0</th>\n",
       "      <td>Volume of Sales</td>\n",
       "      <td>January</td>\n",
       "      <td>Carlow</td>\n",
       "      <td>New</td>\n",
       "      <td>Filings</td>\n",
       "      <td>Household Buyer - All</td>\n",
       "      <td>Market</td>\n",
       "      <td>Number</td>\n",
       "      <td>5.0</td>\n",
       "      <td>2010</td>\n",
       "    </tr>\n",
       "    <tr>\n",
       "      <th>1</th>\n",
       "      <td>Volume of Sales</td>\n",
       "      <td>January</td>\n",
       "      <td>Carlow</td>\n",
       "      <td>New</td>\n",
       "      <td>Filings</td>\n",
       "      <td>Household Buyer - All</td>\n",
       "      <td>Non-Market</td>\n",
       "      <td>Number</td>\n",
       "      <td>0.0</td>\n",
       "      <td>2010</td>\n",
       "    </tr>\n",
       "    <tr>\n",
       "      <th>2</th>\n",
       "      <td>Volume of Sales</td>\n",
       "      <td>January</td>\n",
       "      <td>Carlow</td>\n",
       "      <td>New</td>\n",
       "      <td>Filings</td>\n",
       "      <td>Household Buyer - First-Time Buyer Owner-Occupier</td>\n",
       "      <td>Market</td>\n",
       "      <td>Number</td>\n",
       "      <td>0.0</td>\n",
       "      <td>2010</td>\n",
       "    </tr>\n",
       "    <tr>\n",
       "      <th>3</th>\n",
       "      <td>Volume of Sales</td>\n",
       "      <td>January</td>\n",
       "      <td>Carlow</td>\n",
       "      <td>New</td>\n",
       "      <td>Filings</td>\n",
       "      <td>Household Buyer - First-Time Buyer Owner-Occupier</td>\n",
       "      <td>Non-Market</td>\n",
       "      <td>Number</td>\n",
       "      <td>0.0</td>\n",
       "      <td>2010</td>\n",
       "    </tr>\n",
       "    <tr>\n",
       "      <th>4</th>\n",
       "      <td>Volume of Sales</td>\n",
       "      <td>January</td>\n",
       "      <td>Carlow</td>\n",
       "      <td>New</td>\n",
       "      <td>Filings</td>\n",
       "      <td>Household Buyer - Former Owner-Occupier</td>\n",
       "      <td>Market</td>\n",
       "      <td>Number</td>\n",
       "      <td>3.0</td>\n",
       "      <td>2010</td>\n",
       "    </tr>\n",
       "  </tbody>\n",
       "</table>\n",
       "</div>"
      ],
      "text/plain": [
       "   Statistic Label    Month  County Dwelling Status Stamp Duty Event  \\\n",
       "0  Volume of Sales  January  Carlow             New          Filings   \n",
       "1  Volume of Sales  January  Carlow             New          Filings   \n",
       "2  Volume of Sales  January  Carlow             New          Filings   \n",
       "3  Volume of Sales  January  Carlow             New          Filings   \n",
       "4  Volume of Sales  January  Carlow             New          Filings   \n",
       "\n",
       "                                       Type of Buyer Type of Sale    Unit  \\\n",
       "0                              Household Buyer - All       Market  Number   \n",
       "1                              Household Buyer - All   Non-Market  Number   \n",
       "2  Household Buyer - First-Time Buyer Owner-Occupier       Market  Number   \n",
       "3  Household Buyer - First-Time Buyer Owner-Occupier   Non-Market  Number   \n",
       "4            Household Buyer - Former Owner-Occupier       Market  Number   \n",
       "\n",
       "   Value  Year  \n",
       "0    5.0  2010  \n",
       "1    0.0  2010  \n",
       "2    0.0  2010  \n",
       "3    0.0  2010  \n",
       "4    3.0  2010  "
      ]
     },
     "execution_count": 44,
     "metadata": {},
     "output_type": "execute_result"
    }
   ],
   "source": [
    "firstDF.head()"
   ]
  },
  {
   "cell_type": "code",
   "execution_count": 45,
   "id": "78b4ee09",
   "metadata": {},
   "outputs": [
    {
     "data": {
      "text/plain": [
       "Statistic Label          0\n",
       "Month                    0\n",
       "County                   0\n",
       "Dwelling Status          0\n",
       "Stamp Duty Event         0\n",
       "Type of Buyer            0\n",
       "Type of Sale             0\n",
       "Unit                     0\n",
       "Value               101840\n",
       "Year                     0\n",
       "dtype: int64"
      ]
     },
     "execution_count": 45,
     "metadata": {},
     "output_type": "execute_result"
    }
   ],
   "source": [
    "#It was checked again whether the Nan values were present or not\n",
    "firstDF.isnull().sum()"
   ]
  },
  {
   "cell_type": "code",
   "execution_count": 14,
   "id": "54414dc5",
   "metadata": {},
   "outputs": [],
   "source": [
    "#It was made an int to avoid confusion when using Year Column\n",
    "firstDF[\"Year\"] = firstDF[\"Year\"].apply(np.int64)"
   ]
  },
  {
   "cell_type": "code",
   "execution_count": 15,
   "id": "2298fce0",
   "metadata": {},
   "outputs": [
    {
     "name": "stdout",
     "output_type": "stream",
     "text": [
      "count              682240\n",
      "unique                  4\n",
      "top       Volume of Sales\n",
      "freq               170560\n",
      "Name: Statistic Label, dtype: object\n",
      "----------\n",
      "count      682240\n",
      "unique         12\n",
      "top       January\n",
      "freq        58240\n",
      "Name: Month, dtype: object\n",
      "----------\n",
      "count     682240\n",
      "unique        26\n",
      "top       Carlow\n",
      "freq       26240\n",
      "Name: County, dtype: object\n",
      "----------\n",
      "count     682240\n",
      "unique         2\n",
      "top          New\n",
      "freq      341120\n",
      "Name: Dwelling Status, dtype: object\n",
      "----------\n",
      "count      682240\n",
      "unique          2\n",
      "top       Filings\n",
      "freq       341120\n",
      "Name: Stamp Duty Event, dtype: object\n",
      "----------\n",
      "count                    682240\n",
      "unique                        5\n",
      "top       Household Buyer - All\n",
      "freq                     136448\n",
      "Name: Type of Buyer, dtype: object\n",
      "----------\n",
      "count     682240\n",
      "unique         2\n",
      "top       Market\n",
      "freq      341120\n",
      "Name: Type of Sale, dtype: object\n",
      "----------\n",
      "count     682240\n",
      "unique         3\n",
      "top         Euro\n",
      "freq      341120\n",
      "Name: UNIT, dtype: object\n"
     ]
    }
   ],
   "source": [
    "#Describe function was used\n",
    "print(firstDF['Statistic Label'].describe())\n",
    "print(\"----------\")\n",
    "print(firstDF['Month'].describe())\n",
    "print(\"----------\")\n",
    "print(firstDF['County'].describe())\n",
    "print(\"----------\")\n",
    "print(firstDF['Dwelling Status'].describe())\n",
    "print(\"----------\")\n",
    "print(firstDF['Stamp Duty Event'].describe())\n",
    "print(\"----------\")\n",
    "print(firstDF['Type of Buyer'].describe())\n",
    "print(\"----------\")\n",
    "print(firstDF['Type of Sale'].describe())\n",
    "print(\"----------\")\n",
    "print(firstDF['Unit'].describe())\n"
   ]
  },
  {
   "cell_type": "code",
   "execution_count": 16,
   "id": "d0e13c75",
   "metadata": {},
   "outputs": [
    {
     "name": "stdout",
     "output_type": "stream",
     "text": [
      "['Volume of Sales' 'Value of Sales' 'Mean Sale Price' 'Median Price']\n",
      "----------\n",
      "['January' 'February' 'March' 'April' 'May' 'June' 'July' 'August'\n",
      " 'September' 'October' 'November' 'December']\n",
      "----------\n",
      "['Carlow' 'Dublin' 'Kildare' 'Kilkenny' 'Laois' 'Longford' 'Louth' 'Meath'\n",
      " 'Offaly' 'Westmeath' 'Wexford' 'Wicklow' 'Clare' 'Cork' 'Kerry'\n",
      " 'Limerick' 'Tipperary' 'Waterford' 'Galway' 'Leitrim' 'Mayo' 'Roscommon'\n",
      " 'Sligo' 'Cavan' 'Donegal' 'Monaghan']\n",
      "----------\n",
      "['New' 'Existing']\n",
      "----------\n",
      "['Filings' 'Executions']\n",
      "----------\n",
      "['Household Buyer - All'\n",
      " 'Household Buyer - First-Time Buyer Owner-Occupier'\n",
      " 'Household Buyer - Former Owner-Occupier'\n",
      " 'Household Buyer - Non-Occupier' 'Non-Household Buyer']\n",
      "----------\n",
      "['Market' 'Non-Market']\n",
      "----------\n",
      "['Number' 'Euro Million' 'Euro']\n",
      "----------\n",
      "[2010 2011 2012 2013 2014 2015 2016 2017 2018 2019 2020 2021 2022 2023]\n"
     ]
    }
   ],
   "source": [
    "#Unique function was used\n",
    "print(firstDF['Statistic Label'].unique())\n",
    "print(\"----------\")\n",
    "print(firstDF['Month'].unique())\n",
    "print(\"----------\")\n",
    "print(firstDF['County'].unique())\n",
    "print(\"----------\")\n",
    "print(firstDF['Dwelling Status'].unique())\n",
    "print(\"----------\")\n",
    "print(firstDF['Stamp Duty Event'].unique())\n",
    "print(\"----------\")\n",
    "print(firstDF['Type of Buyer'].unique())\n",
    "print(\"----------\")\n",
    "print(firstDF['Type of Sale'].unique())\n",
    "print(\"----------\")\n",
    "print(firstDF['Unit'].unique())\n",
    "print(\"----------\")\n",
    "print(firstDF['Year'].unique())"
   ]
  },
  {
   "cell_type": "code",
   "execution_count": null,
   "id": "5c4f31ab",
   "metadata": {},
   "outputs": [],
   "source": []
  },
  {
   "cell_type": "code",
   "execution_count": 21,
   "id": "0294bd2a",
   "metadata": {},
   "outputs": [
    {
     "data": {
      "text/plain": [
       "<AxesSubplot:xlabel='VALUE'>"
      ]
     },
     "execution_count": 21,
     "metadata": {},
     "output_type": "execute_result"
    },
    {
     "data": {
      "image/png": "[encoded data removed]",
      "text/plain": [
       "<Figure size 432x288 with 1 Axes>"
      ]
     },
     "metadata": {
      "needs_background": "light"
     },
     "output_type": "display_data"
    }
   ],
   "source": [
    "sns.boxplot(x=firstDF[\"Value\"])"
   ]
  },
  {
   "cell_type": "code",
   "execution_count": 30,
   "id": "24aadaae",
   "metadata": {},
   "outputs": [
    {
     "data": {
      "text/plain": [
       "Text(0.5, 0, 'Year')"
      ]
     },
     "execution_count": 30,
     "metadata": {},
     "output_type": "execute_result"
    },
    {
     "data": {
      "image/png": "[encoded data removed]",
      "text/plain": [
       "<Figure size 720x360 with 1 Axes>"
      ]
     },
     "metadata": {},
     "output_type": "display_data"
    }
   ],
   "source": [
    "firstDF.VALUE.value_counts().nlargest(14).plot(kind=\"bar\", figsize=(10,5))\n",
    "plt.title(\"TITLE\")\n",
    "plt.ylabel(\"Value\")\n",
    "plt.xlabel(\"Year\")"
   ]
  },
  {
   "cell_type": "code",
   "execution_count": 31,
   "id": "523897d6",
   "metadata": {},
   "outputs": [
    {
     "data": {
      "text/html": [
       "<div>\n",
       "<style scoped>\n",
       "    .dataframe tbody tr th:only-of-type {\n",
       "        vertical-align: middle;\n",
       "    }\n",
       "\n",
       "    .dataframe tbody tr th {\n",
       "        vertical-align: top;\n",
       "    }\n",
       "\n",
       "    .dataframe thead th {\n",
       "        text-align: right;\n",
       "    }\n",
       "</style>\n",
       "<table border=\"1\" class=\"dataframe\">\n",
       "  <thead>\n",
       "    <tr style=\"text-align: right;\">\n",
       "      <th></th>\n",
       "      <th>VALUE</th>\n",
       "      <th>Year</th>\n",
       "    </tr>\n",
       "  </thead>\n",
       "  <tbody>\n",
       "    <tr>\n",
       "      <th>VALUE</th>\n",
       "      <td>1.000000</td>\n",
       "      <td>0.102831</td>\n",
       "    </tr>\n",
       "    <tr>\n",
       "      <th>Year</th>\n",
       "      <td>0.102831</td>\n",
       "      <td>1.000000</td>\n",
       "    </tr>\n",
       "  </tbody>\n",
       "</table>\n",
       "</div>"
      ],
      "text/plain": [
       "          VALUE      Year\n",
       "VALUE  1.000000  0.102831\n",
       "Year   0.102831  1.000000"
      ]
     },
     "execution_count": 31,
     "metadata": {},
     "output_type": "execute_result"
    },
    {
     "data": {
      "image/png": "[encoded data removed]",
      "text/plain": [
       "<Figure size 1440x720 with 2 Axes>"
      ]
     },
     "metadata": {},
     "output_type": "display_data"
    }
   ],
   "source": [
    "plt.figure(figsize=(20,10))\n",
    "c= firstDF.corr()\n",
    "sns.heatmap(c,cmap=\"BrBG\",annot=True)\n",
    "c"
   ]
  },
  {
   "cell_type": "code",
   "execution_count": 33,
   "id": "226645f8",
   "metadata": {},
   "outputs": [
    {
     "data": {
      "image/png": "[encoded data removed]",
      "text/plain": [
       "<Figure size 720x432 with 1 Axes>"
      ]
     },
     "metadata": {},
     "output_type": "display_data"
    }
   ],
   "source": [
    "fig, ax = plt.subplots(figsize=(10,6))\n",
    "ax.scatter(firstDF[\"Year\"], firstDF[\"Value\"])\n",
    "ax.set_xlabel(\"Year\")\n",
    "ax.set_ylabel(\"Value\")\n",
    "plt.show()"
   ]
  },
  {
   "cell_type": "code",
   "execution_count": 34,
   "id": "bbe1c2dd",
   "metadata": {},
   "outputs": [
    {
     "data": {
      "text/plain": [
       "<seaborn.axisgrid.PairGrid at 0x157f483b0d0>"
      ]
     },
     "execution_count": 34,
     "metadata": {},
     "output_type": "execute_result"
    },
    {
     "data": {
      "image/png": "[encoded data removed]",
      "text/plain": [
       "<Figure size 360x360 with 6 Axes>"
      ]
     },
     "metadata": {},
     "output_type": "display_data"
    }
   ],
   "source": [
    "sns.pairplot(firstDF)"
   ]
  },
  {
   "cell_type": "code",
   "execution_count": 54,
   "id": "72edec44",
   "metadata": {},
   "outputs": [
    {
     "data": {
      "text/plain": [
       "array([[<AxesSubplot:title={'center':'Year'}>]], dtype=object)"
      ]
     },
     "execution_count": 54,
     "metadata": {},
     "output_type": "execute_result"
    },
    {
     "data": {
      "image/png": "[encoded data removed]",
      "text/plain": [
       "<Figure size 432x288 with 1 Axes>"
      ]
     },
     "metadata": {},
     "output_type": "display_data"
    }
   ],
   "source": [
    "firstDF.hist(column='Year', bins=25)"
   ]
  },
  {
   "cell_type": "code",
   "execution_count": null,
   "id": "8f451e3f",
   "metadata": {},
   "outputs": [],
   "source": [
    "#sns.catplot(\"cut\", data=diamonds_df, aspect=1.5, kind=\"count\", color=\"b\") "
   ]
  },
  {
   "cell_type": "code",
   "execution_count": null,
   "id": "be4f77d2",
   "metadata": {},
   "outputs": [],
   "source": [
    "\"\"\"from numpy import median, mean\n",
    "sns.set(style=\"whitegrid\")\n",
    "ax = sns.barplot(x=\"cut\", y=\"price\", data=diamonds_df,estimator=mean)\"\"\"\n",
    "\n",
    "ax = sns.barplot(x=\"cut\", y=\"price\", data=diamonds_df, estimator=mean, ci=68,\n",
    "order=['Ideal','Good','Very Good','Fair','Premium']) "
   ]
  }
 ],
 "metadata": {
  "kernelspec": {
   "display_name": "Python 3 (ipykernel)",
   "language": "python",
   "name": "python3"
  },
  "language_info": {
   "codemirror_mode": {
    "name": "ipython",
    "version": 3
   },
   "file_extension": ".py",
   "mimetype": "text/x-python",
   "name": "python",
   "nbconvert_exporter": "python",
   "pygments_lexer": "ipython3",
   "version": "3.9.12"
  }
 },
 "nbformat": 4,
 "nbformat_minor": 5
}
